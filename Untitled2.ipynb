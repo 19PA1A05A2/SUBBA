{
  "nbformat": 4,
  "nbformat_minor": 0,
  "metadata": {
    "colab": {
      "name": "Untitled2.ipynb",
      "provenance": [],
      "authorship_tag": "ABX9TyPVXV+eRRS2ZOGOIyIdrZyd",
      "include_colab_link": true
    },
    "kernelspec": {
      "name": "python3",
      "display_name": "Python 3"
    }
  },
  "cells": [
    {
      "cell_type": "markdown",
      "metadata": {
        "id": "view-in-github",
        "colab_type": "text"
      },
      "source": [
        "<a href=\"https://colab.research.google.com/github/19PA1A05A2/SUBBA/blob/master/Untitled2.ipynb\" target=\"_parent\"><img src=\"https://colab.research.google.com/assets/colab-badge.svg\" alt=\"Open In Colab\"/></a>"
      ]
    },
    {
      "cell_type": "code",
      "metadata": {
        "id": "1ifYqgFTB6QY",
        "colab_type": "code",
        "colab": {}
      },
      "source": [
        "def secmax(l):\n",
        "  l.sort()\n",
        "  k=[]\n",
        "  for i in l:\n",
        "    if i not in l:\n",
        "      k.append(i)\n",
        "  print(k[-2])\n",
        "l=list(map(int,input.split()))\n",
        "secmax(l)"
      ],
      "execution_count": 0,
      "outputs": []
    }
  ]
}